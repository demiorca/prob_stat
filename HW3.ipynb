{
 "cells": [
  {
   "cell_type": "code",
   "execution_count": 1,
   "metadata": {},
   "outputs": [],
   "source": [
    "import pandas as pd\n",
    "import matplotlib.pyplot as plt\n",
    "import seaborn as sns\n",
    "import warnings\n",
    "warnings.filterwarnings('ignore')"
   ]
  },
  {
   "cell_type": "code",
   "execution_count": 2,
   "metadata": {},
   "outputs": [],
   "source": [
    "df = pd.read_csv('././Documents/HW3/global_power_plant_database.csv', ';')"
   ]
  },
  {
   "cell_type": "code",
   "execution_count": 3,
   "metadata": {},
   "outputs": [
    {
     "name": "stdout",
     "output_type": "stream",
     "text": [
      "<class 'pandas.core.frame.DataFrame'>\n",
      "RangeIndex: 29910 entries, 0 to 29909\n",
      "Data columns (total 7 columns):\n",
      " #   Column                    Non-Null Count  Dtype  \n",
      "---  ------                    --------------  -----  \n",
      " 0   country                   29910 non-null  object \n",
      " 1   name                      29910 non-null  object \n",
      " 2   capacity_mw               29910 non-null  float64\n",
      " 3   latitude                  29910 non-null  float64\n",
      " 4   longitude                 29910 non-null  float64\n",
      " 5   primary_fuel              29910 non-null  object \n",
      " 6   estimated_generation_gwh  21791 non-null  float64\n",
      "dtypes: float64(4), object(3)\n",
      "memory usage: 1.6+ MB\n"
     ]
    }
   ],
   "source": [
    "df.info()"
   ]
  },
  {
   "cell_type": "code",
   "execution_count": 4,
   "metadata": {},
   "outputs": [
    {
     "data": {
      "text/html": [
       "<div>\n",
       "<style scoped>\n",
       "    .dataframe tbody tr th:only-of-type {\n",
       "        vertical-align: middle;\n",
       "    }\n",
       "\n",
       "    .dataframe tbody tr th {\n",
       "        vertical-align: top;\n",
       "    }\n",
       "\n",
       "    .dataframe thead th {\n",
       "        text-align: right;\n",
       "    }\n",
       "</style>\n",
       "<table border=\"1\" class=\"dataframe\">\n",
       "  <thead>\n",
       "    <tr style=\"text-align: right;\">\n",
       "      <th></th>\n",
       "      <th>capacity_mw</th>\n",
       "      <th>latitude</th>\n",
       "      <th>longitude</th>\n",
       "      <th>estimated_generation_gwh</th>\n",
       "    </tr>\n",
       "  </thead>\n",
       "  <tbody>\n",
       "    <tr>\n",
       "      <th>count</th>\n",
       "      <td>29910.000000</td>\n",
       "      <td>29910.000000</td>\n",
       "      <td>29910.000000</td>\n",
       "      <td>21791.000000</td>\n",
       "    </tr>\n",
       "    <tr>\n",
       "      <th>mean</th>\n",
       "      <td>186.294810</td>\n",
       "      <td>32.497558</td>\n",
       "      <td>-12.458680</td>\n",
       "      <td>847.036474</td>\n",
       "    </tr>\n",
       "    <tr>\n",
       "      <th>std</th>\n",
       "      <td>525.703572</td>\n",
       "      <td>23.654472</td>\n",
       "      <td>76.978265</td>\n",
       "      <td>4067.434967</td>\n",
       "    </tr>\n",
       "    <tr>\n",
       "      <th>min</th>\n",
       "      <td>1.000000</td>\n",
       "      <td>-77.847000</td>\n",
       "      <td>-179.977700</td>\n",
       "      <td>0.000000</td>\n",
       "    </tr>\n",
       "    <tr>\n",
       "      <th>25%</th>\n",
       "      <td>4.774430</td>\n",
       "      <td>28.863475</td>\n",
       "      <td>-79.211275</td>\n",
       "      <td>10.082961</td>\n",
       "    </tr>\n",
       "    <tr>\n",
       "      <th>50%</th>\n",
       "      <td>18.900000</td>\n",
       "      <td>40.071250</td>\n",
       "      <td>-3.746700</td>\n",
       "      <td>53.417041</td>\n",
       "    </tr>\n",
       "    <tr>\n",
       "      <th>75%</th>\n",
       "      <td>100.000000</td>\n",
       "      <td>47.134575</td>\n",
       "      <td>24.931050</td>\n",
       "      <td>339.874490</td>\n",
       "    </tr>\n",
       "    <tr>\n",
       "      <th>max</th>\n",
       "      <td>22500.000000</td>\n",
       "      <td>71.292000</td>\n",
       "      <td>179.388700</td>\n",
       "      <td>450562.692350</td>\n",
       "    </tr>\n",
       "  </tbody>\n",
       "</table>\n",
       "</div>"
      ],
      "text/plain": [
       "        capacity_mw      latitude     longitude  estimated_generation_gwh\n",
       "count  29910.000000  29910.000000  29910.000000              21791.000000\n",
       "mean     186.294810     32.497558    -12.458680                847.036474\n",
       "std      525.703572     23.654472     76.978265               4067.434967\n",
       "min        1.000000    -77.847000   -179.977700                  0.000000\n",
       "25%        4.774430     28.863475    -79.211275                 10.082961\n",
       "50%       18.900000     40.071250     -3.746700                 53.417041\n",
       "75%      100.000000     47.134575     24.931050                339.874490\n",
       "max    22500.000000     71.292000    179.388700             450562.692350"
      ]
     },
     "execution_count": 4,
     "metadata": {},
     "output_type": "execute_result"
    }
   ],
   "source": [
    "df.describe()"
   ]
  },
  {
   "cell_type": "markdown",
   "metadata": {},
   "source": [
    "### Исследование capacity_mw"
   ]
  },
  {
   "cell_type": "markdown",
   "metadata": {},
   "source": [
    "#### Статистика"
   ]
  },
  {
   "cell_type": "code",
   "execution_count": 5,
   "metadata": {},
   "outputs": [],
   "source": [
    "capacity_mw_mean = df['capacity_mw'].mean() # Среднее значение\n",
    "capacity_mw_mode = df['capacity_mw'].mode()[0] # Медиана\n",
    "capacity_mw_median = df['capacity_mw'].median() # Мода\n",
    "capacity_mw_std = df['capacity_mw'].std(ddof=0) # Среднее квадратичное отклонение\n",
    "capacity_mw_var_0 = df['capacity_mw'].var(ddof=0) # Смещённая дисперсия\n",
    "capacity_mw_var_1 = df['capacity_mw'].var(ddof=1) # Несмещённая дисперсия\n",
    "capacity_mw_quantile_1 = df['capacity_mw'].quantile(0.25) # Первый квартиль\n",
    "capacity_mw_quantile_2 = df['capacity_mw'].quantile(0.5) # Второй квартиль\n",
    "capacity_mw_quantile_3 = df['capacity_mw'].quantile(0.75) # Третий квартиль"
   ]
  },
  {
   "cell_type": "code",
   "execution_count": 6,
   "metadata": {},
   "outputs": [
    {
     "name": "stdout",
     "output_type": "stream",
     "text": [
      "Среднее значение для capacity_mw = 186.29480983808034\n",
      "Медиана для capacity_mw = 5.0\n",
      "Мода для capacity_mw = 18.9\n",
      "Среднее квадратичное отклонение для capacity_mw = 525.6947836139199\n",
      "Смещённая дисперсия для capacity_mw = 276355.0055188861\n",
      "Несмещённая дисперсия для capacity_mw = 276364.24537998205\n",
      "Первый квартиль для capacity_mw = 4.774430000000001\n",
      "Второй квартиль для capacity_mw = 18.9\n",
      "Третий квартиль для capacity_mw = 100.0\n"
     ]
    }
   ],
   "source": [
    "print(f'Среднее значение для capacity_mw = {capacity_mw_mean}')\n",
    "print(f'Медиана для capacity_mw = {capacity_mw_mode}')\n",
    "print(f'Мода для capacity_mw = {capacity_mw_median}')\n",
    "print(f'Среднее квадратичное отклонение для capacity_mw = {capacity_mw_std}')\n",
    "print(f'Смещённая дисперсия для capacity_mw = {capacity_mw_var_0}')\n",
    "print(f'Несмещённая дисперсия для capacity_mw = {capacity_mw_var_1}')\n",
    "print(f'Первый квартиль для capacity_mw = {capacity_mw_quantile_1}')\n",
    "print(f'Второй квартиль для capacity_mw = {capacity_mw_quantile_2}')\n",
    "print(f'Третий квартиль для capacity_mw = {capacity_mw_quantile_3}')"
   ]
  },
  {
   "cell_type": "markdown",
   "metadata": {},
   "source": [
    "#### Визуализация"
   ]
  },
  {
   "cell_type": "code",
   "execution_count": 7,
   "metadata": {},
   "outputs": [
    {
     "data": {
      "image/png": "[encoded data removed]",
      "text/plain": [
       "<Figure size 432x288 with 1 Axes>"
      ]
     },
     "metadata": {
      "needs_background": "light"
     },
     "output_type": "display_data"
    }
   ],
   "source": [
    "# Гистограмма\n",
    "plt.hist(df['capacity_mw'], bins = 41)\n",
    "plt.title('Гистограмма для capacity_mw')\n",
    "plt.xlabel('Значение capacity_mw')\n",
    "plt.ylabel('Количество')\n",
    "plt.show()"
   ]
  },
  {
   "cell_type": "code",
   "execution_count": 8,
   "metadata": {},
   "outputs": [
    {
     "data": {
      "image/png": "[encoded data removed]",
      "text/plain": [
       "<Figure size 432x288 with 1 Axes>"
      ]
     },
     "metadata": {
      "needs_background": "light"
     },
     "output_type": "display_data"
    }
   ],
   "source": [
    "# Горизонтальный boxplot\n",
    "sns.boxplot(df['capacity_mw'], orient = 'h')\n",
    "plt.title('boxplot для capacity_mw')\n",
    "plt.xlabel('Значение capacity_mw')\n",
    "plt.show()"
   ]
  },
  {
   "cell_type": "code",
   "execution_count": 9,
   "metadata": {},
   "outputs": [
    {
     "data": {
      "image/png": "[encoded data removed]",
      "text/plain": [
       "<Figure size 432x288 with 1 Axes>"
      ]
     },
     "metadata": {
      "needs_background": "light"
     },
     "output_type": "display_data"
    }
   ],
   "source": [
    "# Вертикальный boxplot\n",
    "sns.boxplot(df['capacity_mw'], orient = 'v')\n",
    "plt.title('boxplot для capacity_mw')\n",
    "plt.ylabel('Значение capacity_mw')\n",
    "plt.show()"
   ]
  },
  {
   "cell_type": "markdown",
   "metadata": {},
   "source": [
    "### Исследование estimated_generation_gwh"
   ]
  },
  {
   "cell_type": "markdown",
   "metadata": {},
   "source": [
    "#### Статистика"
   ]
  },
  {
   "cell_type": "code",
   "execution_count": 10,
   "metadata": {},
   "outputs": [],
   "source": [
    "estimated_generation_gwh_mean = df['estimated_generation_gwh'].mean() # Среднее значение\n",
    "estimated_generation_gwh_mode = df['estimated_generation_gwh'].mode()[0] # Медиана\n",
    "estimated_generation_gwh_median = df['estimated_generation_gwh'].median() # Мода\n",
    "estimated_generation_gwh_std = df['estimated_generation_gwh'].std(ddof=0) # Среднее квадратичное отклонение\n",
    "estimated_generation_gwh_var_0 = df['estimated_generation_gwh'].var(ddof=0) # Смещённая дисперсия\n",
    "estimated_generation_gwh_var_1 = df['estimated_generation_gwh'].var(ddof=1) # Несмещённая дисперсия\n",
    "estimated_generation_gwh_quantile_1 = df['estimated_generation_gwh'].quantile(0.25) # Первый квартиль\n",
    "estimated_generation_gwh_quantile_2 = df['estimated_generation_gwh'].quantile(0.5) # Второй квартиль\n",
    "estimated_generation_gwh_quantile_3 = df['estimated_generation_gwh'].quantile(0.75) # Третий квартиль"
   ]
  },
  {
   "cell_type": "code",
   "execution_count": 11,
   "metadata": {},
   "outputs": [
    {
     "name": "stdout",
     "output_type": "stream",
     "text": [
      "Среднее значение для estimated_generation_gwh = 847.0364741420932\n",
      "Медиана для estimated_generation_gwh = 149.98564434532332\n",
      "Мода для estimated_generation_gwh = 53.41704063227728\n",
      "Среднее квадратичное отклонение для estimated_generation_gwh = 4067.3416374924386\n",
      "Смещённая дисперсия для estimated_generation_gwh = 16543267.996079672\n",
      "Несмещённая дисперсия для estimated_generation_gwh = 16544027.209847275\n",
      "Первый квартиль для estimated_generation_gwh = 10.082960896027943\n",
      "Второй квартиль для estimated_generation_gwh = 53.41704063227728\n",
      "Третий квартиль для estimated_generation_gwh = 339.8744900591512\n"
     ]
    }
   ],
   "source": [
    "print(f'Среднее значение для estimated_generation_gwh = {estimated_generation_gwh_mean}')\n",
    "print(f'Медиана для estimated_generation_gwh = {estimated_generation_gwh_mode}')\n",
    "print(f'Мода для estimated_generation_gwh = {estimated_generation_gwh_median}')\n",
    "print(f'Среднее квадратичное отклонение для estimated_generation_gwh = {estimated_generation_gwh_std}')\n",
    "print(f'Смещённая дисперсия для estimated_generation_gwh = {estimated_generation_gwh_var_0}')\n",
    "print(f'Несмещённая дисперсия для estimated_generation_gwh = {estimated_generation_gwh_var_1}')\n",
    "print(f'Первый квартиль для estimated_generation_gwh = {estimated_generation_gwh_quantile_1}')\n",
    "print(f'Второй квартиль для estimated_generation_gwh = {estimated_generation_gwh_quantile_2}')\n",
    "print(f'Третий квартиль для estimated_generation_gwh = {estimated_generation_gwh_quantile_3}')"
   ]
  },
  {
   "cell_type": "markdown",
   "metadata": {},
   "source": [
    "#### Визуализация"
   ]
  },
  {
   "cell_type": "code",
   "execution_count": 12,
   "metadata": {},
   "outputs": [
    {
     "data": {
      "image/png": "[encoded data removed]",
      "text/plain": [
       "<Figure size 432x288 with 1 Axes>"
      ]
     },
     "metadata": {
      "needs_background": "light"
     },
     "output_type": "display_data"
    }
   ],
   "source": [
    "# Гистограмма\n",
    "plt.hist(df['estimated_generation_gwh'], bins = 41)\n",
    "plt.title('Гистограмма для estimated_generation_gwh')\n",
    "plt.xlabel('Значение estimated_generation_gwh')\n",
    "plt.ylabel('Количество')\n",
    "plt.show()"
   ]
  },
  {
   "cell_type": "code",
   "execution_count": 13,
   "metadata": {},
   "outputs": [
    {
     "data": {
      "image/png": "[encoded data removed]",
      "text/plain": [
       "<Figure size 432x288 with 1 Axes>"
      ]
     },
     "metadata": {
      "needs_background": "light"
     },
     "output_type": "display_data"
    }
   ],
   "source": [
    "# Горизонтальный boxplot\n",
    "sns.boxplot(df['estimated_generation_gwh'], orient = 'h')\n",
    "plt.title('boxplot для estimated_generation_gwh')\n",
    "plt.xlabel('Значение estimated_generation_gwh')\n",
    "plt.show()"
   ]
  },
  {
   "cell_type": "code",
   "execution_count": 14,
   "metadata": {},
   "outputs": [
    {
     "data": {
      "image/png": "[encoded data removed]",
      "text/plain": [
       "<Figure size 432x288 with 1 Axes>"
      ]
     },
     "metadata": {
      "needs_background": "light"
     },
     "output_type": "display_data"
    }
   ],
   "source": [
    "# Вертикальный boxplot\n",
    "sns.boxplot(df['estimated_generation_gwh'], orient = 'v')\n",
    "plt.title('boxplot для estimated_generation_gwh')\n",
    "plt.ylabel('Значение estimated_generation_gwh')\n",
    "plt.show()"
   ]
  },
  {
   "cell_type": "code",
   "execution_count": null,
   "metadata": {},
   "outputs": [],
   "source": []
  }
 ],
 "metadata": {
  "kernelspec": {
   "display_name": "Python 3",
   "language": "python",
   "name": "python3"
  },
  "language_info": {
   "codemirror_mode": {
    "name": "ipython",
    "version": 3
   },
   "file_extension": ".py",
   "mimetype": "text/x-python",
   "name": "python",
   "nbconvert_exporter": "python",
   "pygments_lexer": "ipython3",
   "version": "3.7.6"
  }
 },
 "nbformat": 4,
 "nbformat_minor": 4
}
